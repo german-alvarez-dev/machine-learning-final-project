{
 "cells": [
  {
   "cell_type": "code",
   "execution_count": null,
   "id": "b6577ad3",
   "metadata": {},
   "outputs": [],
   "source": [
    "%load_ext autoreload\n",
    "%autoreload 2"
   ]
  },
  {
   "cell_type": "code",
   "execution_count": null,
   "id": "4fefe136",
   "metadata": {},
   "outputs": [],
   "source": [
    "import pandas as pd"
   ]
  },
  {
   "cell_type": "code",
   "execution_count": 50,
   "id": "cfd3ca72",
   "metadata": {},
   "outputs": [],
   "source": [
    "from src.io import (\n",
    "    load_incident_data, \n",
    "    save_processed_data\n",
    ")\n",
    "from src.utils import (\n",
    "    standardize_column_names, \n",
    "    normalize_text_column\n",
    ")\n",
    "from src.data_cleaning.incidents import ( \n",
    "    parse_incident_date_column,\n",
    "    split_age_gender_column,\n",
    "    classify_incident_type\n",
    ")\n",
    "from src.enrichment.ride_metadata import (\n",
    "    fetch_wikipedia_ride_metadata\n",
    ")\n",
    "from src.enrichment.temporal_features import (\n",
    "    enrich_temporal_features\n",
    ")\n",
    "from src.enrichment.visitor_profile import (\n",
    "    enrich_visitor_profile\n",
    ")\n",
    "from src.enrichment.aggregate_features import (\n",
    "    enrich_aggregate_features\n",
    ")\n"
   ]
  },
  {
   "cell_type": "code",
   "execution_count": null,
   "id": "400206f7",
   "metadata": {},
   "outputs": [],
   "source": [
    "df = load_incident_data(\"data/raw/incidents.csv\")"
   ]
  },
  {
   "cell_type": "code",
   "execution_count": null,
   "id": "63a42731",
   "metadata": {},
   "outputs": [],
   "source": [
    "df = standardize_column_names(df)"
   ]
  },
  {
   "cell_type": "code",
   "execution_count": null,
   "id": "ddd6412d",
   "metadata": {},
   "outputs": [],
   "source": [
    "df = normalize_text_column(df, col=\"company\")"
   ]
  },
  {
   "cell_type": "code",
   "execution_count": null,
   "id": "890a0818",
   "metadata": {},
   "outputs": [],
   "source": [
    "df = parse_incident_date_column(df)   \n"
   ]
  },
  {
   "cell_type": "code",
   "execution_count": null,
   "id": "19557459",
   "metadata": {},
   "outputs": [],
   "source": [
    "df = normalize_text_column(df, col=\"theme_park\")"
   ]
  },
  {
   "cell_type": "code",
   "execution_count": null,
   "id": "e27867d9",
   "metadata": {},
   "outputs": [],
   "source": [
    "df = split_age_gender_column(df)\n"
   ]
  },
  {
   "cell_type": "code",
   "execution_count": null,
   "id": "c4c8ebc1",
   "metadata": {},
   "outputs": [],
   "source": [
    "df = classify_incident_type(df)"
   ]
  },
  {
   "cell_type": "code",
   "execution_count": null,
   "id": "f45dad13",
   "metadata": {},
   "outputs": [],
   "source": [
    "save_processed_data(df, \"data/processed/incidents_clean.parquet\")"
   ]
  },
  {
   "cell_type": "code",
   "execution_count": null,
   "id": "023485dc",
   "metadata": {},
   "outputs": [],
   "source": [
    "df_unique_rides = df[[\"ride_name\", \"theme_park\"]].drop_duplicates().copy()\n",
    "\n",
    "metadata = df_unique_rides.apply(\n",
    "    lambda row: pd.Series(fetch_wikipedia_ride_metadata(row[\"ride_name\"], row[\"theme_park\"])),\n",
    "    axis=1\n",
    ")\n",
    "\n",
    "df_rides = pd.concat([df_unique_rides, metadata], axis=1)\n",
    "df_rides.to_csv(\"data/external/rides_metadata_wikipedia.csv\", index=False)\n",
    "\n",
    "df = df.merge(df_rides, on=[\"ride_name\", \"theme_park\"], how=\"left\")\n"
   ]
  },
  {
   "cell_type": "code",
   "execution_count": 42,
   "id": "1156a882",
   "metadata": {},
   "outputs": [],
   "source": [
    "df = enrich_temporal_features(df)"
   ]
  },
  {
   "cell_type": "code",
   "execution_count": 43,
   "id": "2361988a",
   "metadata": {},
   "outputs": [
    {
     "data": {
      "text/html": [
       "<div>\n",
       "<style scoped>\n",
       "    .dataframe tbody tr th:only-of-type {\n",
       "        vertical-align: middle;\n",
       "    }\n",
       "\n",
       "    .dataframe tbody tr th {\n",
       "        vertical-align: top;\n",
       "    }\n",
       "\n",
       "    .dataframe thead th {\n",
       "        text-align: right;\n",
       "    }\n",
       "</style>\n",
       "<table border=\"1\" class=\"dataframe\">\n",
       "  <thead>\n",
       "    <tr style=\"text-align: right;\">\n",
       "      <th></th>\n",
       "      <th>incident_date_parsed</th>\n",
       "      <th>day_of_week</th>\n",
       "      <th>month</th>\n",
       "      <th>season</th>\n",
       "      <th>is_weekend</th>\n",
       "      <th>is_summer</th>\n",
       "    </tr>\n",
       "  </thead>\n",
       "  <tbody>\n",
       "    <tr>\n",
       "      <th>0</th>\n",
       "      <td>2022-06-09</td>\n",
       "      <td>Thursday</td>\n",
       "      <td>6</td>\n",
       "      <td>summer</td>\n",
       "      <td>False</td>\n",
       "      <td>True</td>\n",
       "    </tr>\n",
       "    <tr>\n",
       "      <th>1</th>\n",
       "      <td>2014-10-05</td>\n",
       "      <td>Sunday</td>\n",
       "      <td>10</td>\n",
       "      <td>fall</td>\n",
       "      <td>True</td>\n",
       "      <td>False</td>\n",
       "    </tr>\n",
       "    <tr>\n",
       "      <th>2</th>\n",
       "      <td>2009-12-03</td>\n",
       "      <td>Thursday</td>\n",
       "      <td>12</td>\n",
       "      <td>winter</td>\n",
       "      <td>False</td>\n",
       "      <td>False</td>\n",
       "    </tr>\n",
       "    <tr>\n",
       "      <th>3</th>\n",
       "      <td>2022-08-07</td>\n",
       "      <td>Sunday</td>\n",
       "      <td>8</td>\n",
       "      <td>summer</td>\n",
       "      <td>True</td>\n",
       "      <td>True</td>\n",
       "    </tr>\n",
       "    <tr>\n",
       "      <th>4</th>\n",
       "      <td>2022-04-19</td>\n",
       "      <td>Tuesday</td>\n",
       "      <td>4</td>\n",
       "      <td>spring</td>\n",
       "      <td>False</td>\n",
       "      <td>False</td>\n",
       "    </tr>\n",
       "  </tbody>\n",
       "</table>\n",
       "</div>"
      ],
      "text/plain": [
       "  incident_date_parsed day_of_week  month  season  is_weekend  is_summer\n",
       "0           2022-06-09    Thursday      6  summer       False       True\n",
       "1           2014-10-05      Sunday     10    fall        True      False\n",
       "2           2009-12-03    Thursday     12  winter       False      False\n",
       "3           2022-08-07      Sunday      8  summer        True       True\n",
       "4           2022-04-19     Tuesday      4  spring       False      False"
      ]
     },
     "execution_count": 43,
     "metadata": {},
     "output_type": "execute_result"
    }
   ],
   "source": [
    "df[[\"incident_date_parsed\", \"day_of_week\", \"month\", \"season\", \"is_weekend\", \"is_summer\"]].head()\n"
   ]
  },
  {
   "cell_type": "code",
   "execution_count": 46,
   "id": "dda2e1b0",
   "metadata": {},
   "outputs": [],
   "source": [
    "df = enrich_visitor_profile(df)"
   ]
  },
  {
   "cell_type": "code",
   "execution_count": null,
   "id": "2914afef",
   "metadata": {},
   "outputs": [],
   "source": [
    "df = enrich_aggregate_features(df)"
   ]
  },
  {
   "cell_type": "code",
   "execution_count": null,
   "id": "a9dacb0d",
   "metadata": {},
   "outputs": [],
   "source": []
  }
 ],
 "metadata": {
  "kernelspec": {
   "display_name": "Python 3",
   "language": "python",
   "name": "python3"
  },
  "language_info": {
   "codemirror_mode": {
    "name": "ipython",
    "version": 3
   },
   "file_extension": ".py",
   "mimetype": "text/x-python",
   "name": "python",
   "nbconvert_exporter": "python",
   "pygments_lexer": "ipython3",
   "version": "3.8.5"
  }
 },
 "nbformat": 4,
 "nbformat_minor": 5
}
