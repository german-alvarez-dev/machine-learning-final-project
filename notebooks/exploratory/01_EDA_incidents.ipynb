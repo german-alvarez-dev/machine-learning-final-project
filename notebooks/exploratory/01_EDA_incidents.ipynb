{
 "cells": [
  {
   "cell_type": "code",
   "execution_count": 1,
   "id": "aea46621",
   "metadata": {},
   "outputs": [
    {
     "data": {
      "text/html": [
       "<div>\n",
       "<style scoped>\n",
       "    .dataframe tbody tr th:only-of-type {\n",
       "        vertical-align: middle;\n",
       "    }\n",
       "\n",
       "    .dataframe tbody tr th {\n",
       "        vertical-align: top;\n",
       "    }\n",
       "\n",
       "    .dataframe thead th {\n",
       "        text-align: right;\n",
       "    }\n",
       "</style>\n",
       "<table border=\"1\" class=\"dataframe\">\n",
       "  <thead>\n",
       "    <tr style=\"text-align: right;\">\n",
       "      <th></th>\n",
       "      <th>Company</th>\n",
       "      <th>Incident_date</th>\n",
       "      <th>Ride_name_dirty</th>\n",
       "      <th>Ride_name</th>\n",
       "      <th>Theme_Park</th>\n",
       "      <th>age_gender</th>\n",
       "      <th>description</th>\n",
       "    </tr>\n",
       "  </thead>\n",
       "  <tbody>\n",
       "    <tr>\n",
       "      <th>0</th>\n",
       "      <td>Disney World</td>\n",
       "      <td>06/09/2022</td>\n",
       "      <td>Alien Swirling Saucers</td>\n",
       "      <td>Alien Swirling Saucers</td>\n",
       "      <td>Hollywood Studios</td>\n",
       "      <td>59 yof</td>\n",
       "      <td>guest with pre-existing condition sustained in...</td>\n",
       "    </tr>\n",
       "    <tr>\n",
       "      <th>1</th>\n",
       "      <td>Disney World</td>\n",
       "      <td>10/05/2014</td>\n",
       "      <td>Astro Orbiter</td>\n",
       "      <td>Astro Orbiter</td>\n",
       "      <td>Magic Kingdom</td>\n",
       "      <td>68 yom</td>\n",
       "      <td>guest fell exiting vehicle, developed blood c...</td>\n",
       "    </tr>\n",
       "    <tr>\n",
       "      <th>2</th>\n",
       "      <td>Disney World</td>\n",
       "      <td>12/03/2009</td>\n",
       "      <td>Astro Orbitor</td>\n",
       "      <td>Astro Orbiter</td>\n",
       "      <td>Magic Kingdom</td>\n",
       "      <td>40 yof</td>\n",
       "      <td>fractured left ankle exiting ride</td>\n",
       "    </tr>\n",
       "    <tr>\n",
       "      <th>3</th>\n",
       "      <td>Disney World</td>\n",
       "      <td>08/07/2022</td>\n",
       "      <td>Avatar Flight of Passage</td>\n",
       "      <td>Avatar Flight of Passage</td>\n",
       "      <td>Animal Kingdom</td>\n",
       "      <td>83 yom</td>\n",
       "      <td>guest with pre-existing condition was briefly ...</td>\n",
       "    </tr>\n",
       "    <tr>\n",
       "      <th>4</th>\n",
       "      <td>Disney World</td>\n",
       "      <td>4/19/22</td>\n",
       "      <td>Avatar Flight of Passage</td>\n",
       "      <td>Avatar Flight of Passage</td>\n",
       "      <td>Animal Kingdom</td>\n",
       "      <td>42 yof</td>\n",
       "      <td>guest with pre-existing condition had motion s...</td>\n",
       "    </tr>\n",
       "  </tbody>\n",
       "</table>\n",
       "</div>"
      ],
      "text/plain": [
       "        Company Incident_date           Ride_name_dirty  \\\n",
       "0  Disney World    06/09/2022    Alien Swirling Saucers   \n",
       "1  Disney World    10/05/2014             Astro Orbiter   \n",
       "2  Disney World    12/03/2009             Astro Orbitor   \n",
       "3  Disney World    08/07/2022  Avatar Flight of Passage   \n",
       "4  Disney World       4/19/22  Avatar Flight of Passage   \n",
       "\n",
       "                  Ride_name         Theme_Park age_gender  \\\n",
       "0    Alien Swirling Saucers  Hollywood Studios     59 yof   \n",
       "1             Astro Orbiter      Magic Kingdom     68 yom   \n",
       "2             Astro Orbiter      Magic Kingdom     40 yof   \n",
       "3  Avatar Flight of Passage     Animal Kingdom     83 yom   \n",
       "4  Avatar Flight of Passage     Animal Kingdom     42 yof   \n",
       "\n",
       "                                         description  \n",
       "0  guest with pre-existing condition sustained in...  \n",
       "1   guest fell exiting vehicle, developed blood c...  \n",
       "2                  fractured left ankle exiting ride  \n",
       "3  guest with pre-existing condition was briefly ...  \n",
       "4  guest with pre-existing condition had motion s...  "
      ]
     },
     "execution_count": 1,
     "metadata": {},
     "output_type": "execute_result"
    }
   ],
   "source": [
    "# Imports\n",
    "import pandas as pd\n",
    "import matplotlib.pyplot as plt\n",
    "import seaborn as sns\n",
    "\n",
    "# Auto-reload for development\n",
    "%load_ext autoreload\n",
    "%autoreload 2\n",
    "\n",
    "# Load raw incident data\n",
    "df = pd.read_csv(\"../../data/raw/incidents.csv\")\n",
    "df.head()\n"
   ]
  },
  {
   "cell_type": "code",
   "execution_count": 8,
   "id": "e942f93a",
   "metadata": {},
   "outputs": [
    {
     "name": "stdout",
     "output_type": "stream",
     "text": [
      "<class 'pandas.core.frame.DataFrame'>\n",
      "RangeIndex: 682 entries, 0 to 681\n",
      "Data columns (total 7 columns):\n",
      " #   Column           Non-Null Count  Dtype \n",
      "---  ------           --------------  ----- \n",
      " 0   Company          682 non-null    object\n",
      " 1   Incident_date    682 non-null    object\n",
      " 2   Ride_name_dirty  682 non-null    object\n",
      " 3   Ride_name        682 non-null    object\n",
      " 4   Theme_Park       682 non-null    object\n",
      " 5   age_gender       682 non-null    object\n",
      " 6   description      682 non-null    object\n",
      "dtypes: object(7)\n",
      "memory usage: 37.4+ KB\n"
     ]
    }
   ],
   "source": [
    "# Basic structure and data types\n",
    "df.info()"
   ]
  },
  {
   "cell_type": "code",
   "execution_count": 9,
   "id": "eed736ab",
   "metadata": {},
   "outputs": [
    {
     "data": {
      "text/html": [
       "<div>\n",
       "<style scoped>\n",
       "    .dataframe tbody tr th:only-of-type {\n",
       "        vertical-align: middle;\n",
       "    }\n",
       "\n",
       "    .dataframe tbody tr th {\n",
       "        vertical-align: top;\n",
       "    }\n",
       "\n",
       "    .dataframe thead th {\n",
       "        text-align: right;\n",
       "    }\n",
       "</style>\n",
       "<table border=\"1\" class=\"dataframe\">\n",
       "  <thead>\n",
       "    <tr style=\"text-align: right;\">\n",
       "      <th></th>\n",
       "      <th>Company</th>\n",
       "      <th>Incident_date</th>\n",
       "      <th>Ride_name_dirty</th>\n",
       "      <th>Ride_name</th>\n",
       "      <th>Theme_Park</th>\n",
       "      <th>age_gender</th>\n",
       "      <th>description</th>\n",
       "    </tr>\n",
       "  </thead>\n",
       "  <tbody>\n",
       "    <tr>\n",
       "      <th>count</th>\n",
       "      <td>682</td>\n",
       "      <td>682</td>\n",
       "      <td>682</td>\n",
       "      <td>682</td>\n",
       "      <td>682</td>\n",
       "      <td>682</td>\n",
       "      <td>682</td>\n",
       "    </tr>\n",
       "    <tr>\n",
       "      <th>unique</th>\n",
       "      <td>3</td>\n",
       "      <td>648</td>\n",
       "      <td>221</td>\n",
       "      <td>112</td>\n",
       "      <td>9</td>\n",
       "      <td>169</td>\n",
       "      <td>527</td>\n",
       "    </tr>\n",
       "    <tr>\n",
       "      <th>top</th>\n",
       "      <td>Disney World</td>\n",
       "      <td>3/14/20</td>\n",
       "      <td>Space Mountain</td>\n",
       "      <td>Harry Potter and the Forbidden Journey</td>\n",
       "      <td>Magic Kingdom</td>\n",
       "      <td>68 yof</td>\n",
       "      <td>motion sickness</td>\n",
       "    </tr>\n",
       "    <tr>\n",
       "      <th>freq</th>\n",
       "      <td>502</td>\n",
       "      <td>2</td>\n",
       "      <td>36</td>\n",
       "      <td>44</td>\n",
       "      <td>177</td>\n",
       "      <td>15</td>\n",
       "      <td>28</td>\n",
       "    </tr>\n",
       "  </tbody>\n",
       "</table>\n",
       "</div>"
      ],
      "text/plain": [
       "             Company Incident_date Ride_name_dirty  \\\n",
       "count            682           682             682   \n",
       "unique             3           648             221   \n",
       "top     Disney World       3/14/20  Space Mountain   \n",
       "freq             502             2              36   \n",
       "\n",
       "                                     Ride_name     Theme_Park age_gender  \\\n",
       "count                                      682            682        682   \n",
       "unique                                     112              9        169   \n",
       "top     Harry Potter and the Forbidden Journey  Magic Kingdom     68 yof   \n",
       "freq                                        44            177         15   \n",
       "\n",
       "            description  \n",
       "count               682  \n",
       "unique              527  \n",
       "top     motion sickness  \n",
       "freq                 28  "
      ]
     },
     "execution_count": 9,
     "metadata": {},
     "output_type": "execute_result"
    }
   ],
   "source": [
    "# Descriptive statistics (including non-numeric columns)\n",
    "df.describe(include=\"all\")"
   ]
  },
  {
   "cell_type": "code",
   "execution_count": 6,
   "id": "dd4e3f00",
   "metadata": {},
   "outputs": [
    {
     "data": {
      "text/plain": [
       "Company            0\n",
       "Incident_date      0\n",
       "Ride_name_dirty    0\n",
       "Ride_name          0\n",
       "Theme_Park         0\n",
       "age_gender         0\n",
       "description        0\n",
       "dtype: int64"
      ]
     },
     "execution_count": 6,
     "metadata": {},
     "output_type": "execute_result"
    }
   ],
   "source": [
    "# Count of missing values per column\n",
    "df.isna().sum()"
   ]
  },
  {
   "cell_type": "code",
   "execution_count": 7,
   "id": "4b0dfc53",
   "metadata": {},
   "outputs": [
    {
     "data": {
      "text/plain": [
       "Company              3\n",
       "Theme_Park           9\n",
       "Ride_name          112\n",
       "age_gender         169\n",
       "Ride_name_dirty    221\n",
       "description        527\n",
       "Incident_date      648\n",
       "dtype: int64"
      ]
     },
     "execution_count": 7,
     "metadata": {},
     "output_type": "execute_result"
    }
   ],
   "source": [
    "# Count of unique values per column\n",
    "df.nunique().sort_values()"
   ]
  },
  {
   "cell_type": "code",
   "execution_count": 11,
   "id": "701066f1",
   "metadata": {},
   "outputs": [
    {
     "data": {
      "text/plain": [
       "Company\n",
       "Disney World    502\n",
       "Universal       179\n",
       "Universal:        1\n",
       "Name: count, dtype: int64"
      ]
     },
     "execution_count": 11,
     "metadata": {},
     "output_type": "execute_result"
    }
   ],
   "source": [
    "df[\"Company\"].value_counts()"
   ]
  },
  {
   "cell_type": "code",
   "execution_count": 12,
   "id": "01cade9c",
   "metadata": {},
   "outputs": [
    {
     "data": {
      "text/plain": [
       "Theme_Park\n",
       "Magic Kingdom           177\n",
       "Animal Kingdom           97\n",
       "Islands of Adventure     95\n",
       "Epcot                    91\n",
       "Hollywood Studios        80\n",
       "Universal Studios        68\n",
       "Typhoon Lagoon           32\n",
       "Blizzard Beach           26\n",
       "Volcano Bay              16\n",
       "Name: count, dtype: int64"
      ]
     },
     "execution_count": 12,
     "metadata": {},
     "output_type": "execute_result"
    }
   ],
   "source": [
    "df[\"Theme_Park\"].value_counts()"
   ]
  },
  {
   "cell_type": "code",
   "execution_count": 13,
   "id": "5b0b049c",
   "metadata": {},
   "outputs": [
    {
     "data": {
      "text/plain": [
       "Ride_name\n",
       "Harry Potter and the Forbidden Journey        44\n",
       "Space Mountain                                39\n",
       "Expedition Everest                            38\n",
       "Mission: Space                                36\n",
       "Rock 'n' Roller Coaster Starring Aerosmith    23\n",
       "Kilimanjaro Safaris Expedition                21\n",
       "Revenge of the Mummy                          17\n",
       "The Twilight Zone Tower of Terror             16\n",
       "Surf Pool                                     16\n",
       "Star Tours: The Adventure Continues           16\n",
       "Avatar Flight of Passage                      15\n",
       "Hollywood Rip Ride Rocket                     14\n",
       "Dinosaur                                      14\n",
       "Buzz Lightyears Space Ranger Spin             13\n",
       "Spaceship Earth                               12\n",
       "Big Thunder Mountain Railroad                 12\n",
       "Haunted Mansion                               12\n",
       "Pirates of the Caribbean                      11\n",
       "Dragon Challenge                              11\n",
       "The Incredible Hulk Coaster                   11\n",
       "Name: count, dtype: int64"
      ]
     },
     "execution_count": 13,
     "metadata": {},
     "output_type": "execute_result"
    }
   ],
   "source": [
    "df[\"Ride_name\"].value_counts().head(20)"
   ]
  },
  {
   "cell_type": "code",
   "execution_count": 14,
   "id": "586dcc95",
   "metadata": {},
   "outputs": [
    {
     "data": {
      "text/plain": [
       "536                                           Star Tours\n",
       "254                        The Hollywood Rip Ride Rockit\n",
       "440    Rock Ã¢ÂÂnÃ¢ÂÂ Roller Coaster Staring Aero...\n",
       "666                                     Toy Story Mania!\n",
       "33                                        Buzz Lightyear\n",
       "617               The Many Adventures of Winnie the Pooh\n",
       "345                                        Mission Space\n",
       "574                             Typhoon Lagoon Surf Pool\n",
       "139                                   Expedition Everest\n",
       "146                                   Expedition Everest\n",
       "Name: Ride_name_dirty, dtype: object"
      ]
     },
     "execution_count": 14,
     "metadata": {},
     "output_type": "execute_result"
    }
   ],
   "source": [
    "df[\"Ride_name_dirty\"].sample(10)\n"
   ]
  },
  {
   "cell_type": "code",
   "execution_count": 15,
   "id": "05c952d6",
   "metadata": {},
   "outputs": [
    {
     "data": {
      "text/plain": [
       "age_gender\n",
       "68 yof    15\n",
       "57 yof    12\n",
       "57 yom    11\n",
       "72 yof    11\n",
       "59 yom    11\n",
       "54 yom    10\n",
       "43 yof    10\n",
       "71 yof    10\n",
       "69 yof    10\n",
       "51 yom     9\n",
       "Name: count, dtype: int64"
      ]
     },
     "execution_count": 15,
     "metadata": {},
     "output_type": "execute_result"
    }
   ],
   "source": [
    "df[\"age_gender\"].value_counts().head(10)"
   ]
  },
  {
   "cell_type": "code",
   "execution_count": 16,
   "id": "9cdd36bb",
   "metadata": {},
   "outputs": [
    {
     "data": {
      "text/plain": [
       "<Axes: >"
      ]
     },
     "execution_count": 16,
     "metadata": {},
     "output_type": "execute_result"
    },
    {
     "data": {
      "image/png": "[encoded data removed]",
      "text/plain": [
       "<Figure size 640x480 with 1 Axes>"
      ]
     },
     "metadata": {},
     "output_type": "display_data"
    }
   ],
   "source": [
    "# Extract age for inspection\n",
    "df[\"age\"] = df[\"age_gender\"].str.extract(r\"(\\d+)\")\n",
    "df[\"age\"] = pd.to_numeric(df[\"age\"], errors=\"coerce\")\n",
    "df[\"age\"].hist(bins=20)"
   ]
  },
  {
   "cell_type": "code",
   "execution_count": 2,
   "id": "34e1cd4d",
   "metadata": {},
   "outputs": [
    {
     "data": {
      "text/plain": [
       "584       8/14/08\n",
       "304    12/02/2016\n",
       "294       1/17/18\n",
       "648      06/18/09\n",
       "314    08/12/2016\n",
       "214       4/16/17\n",
       "2      12/03/2009\n",
       "291      12/22/08\n",
       "577       6/14/20\n",
       "57     10/10/2013\n",
       "497       7/29/14\n",
       "662       9/25/22\n",
       "322      11/15/06\n",
       "213    04/08/2017\n",
       "97     11/07/2012\n",
       "569       6/14/16\n",
       "168    12/11/2012\n",
       "492       8/20/16\n",
       "550    07/27/2009\n",
       "455       6/25/16\n",
       "Name: Incident_date, dtype: object"
      ]
     },
     "execution_count": 2,
     "metadata": {},
     "output_type": "execute_result"
    }
   ],
   "source": [
    "df[\"Incident_date\"].sample(20)"
   ]
  },
  {
   "cell_type": "code",
   "execution_count": 4,
   "id": "eefdfcdf",
   "metadata": {},
   "outputs": [],
   "source": [
    "#flexible parsing force\n",
    "df[\"Incident_date_parsed\"] = pd.to_datetime(df[\"Incident_date\"], dayfirst=False, errors=\"coerce\")"
   ]
  },
  {
   "cell_type": "code",
   "execution_count": 5,
   "id": "4850508c",
   "metadata": {},
   "outputs": [
    {
     "name": "stdout",
     "output_type": "stream",
     "text": [
      "Failed to parse: 406 rows\n"
     ]
    },
    {
     "data": {
      "text/plain": [
       "Incident_date\n",
       "3/18/13     2\n",
       "7/24/13     2\n",
       "7/16/11     2\n",
       "6/24/15     2\n",
       "3/24/22     2\n",
       "07/17/03    2\n",
       "3/14/20     2\n",
       "2/22/06     2\n",
       "3/13/21     2\n",
       "04/13/09    2\n",
       "Name: count, dtype: int64"
      ]
     },
     "execution_count": 5,
     "metadata": {},
     "output_type": "execute_result"
    }
   ],
   "source": [
    "#verify failing dates\n",
    "failed = df[df[\"Incident_date_parsed\"].isna()]\n",
    "print(f\"Failed to parse: {len(failed)} rows\")\n",
    "failed[\"Incident_date\"].value_counts().head(10)"
   ]
  },
  {
   "cell_type": "code",
   "execution_count": 18,
   "id": "3a118826",
   "metadata": {},
   "outputs": [
    {
     "data": {
      "text/plain": [
       "417                                     lower back pain.\n",
       "576    loss of consciousness: history of heart condition\n",
       "462        guest with pre-existing condition had seizure\n",
       "374                                  felt dizzy and sick\n",
       "297    developed rash before boarding; rash later wor...\n",
       "Name: description, dtype: object"
      ]
     },
     "execution_count": 18,
     "metadata": {},
     "output_type": "execute_result"
    }
   ],
   "source": [
    "df[\"description\"].sample(5)"
   ]
  },
  {
   "cell_type": "markdown",
   "id": "f53a89c5",
   "metadata": {},
   "source": []
  }
 ],
 "metadata": {
  "kernelspec": {
   "display_name": "Python 3",
   "language": "python",
   "name": "python3"
  },
  "language_info": {
   "codemirror_mode": {
    "name": "ipython",
    "version": 3
   },
   "file_extension": ".py",
   "mimetype": "text/x-python",
   "name": "python",
   "nbconvert_exporter": "python",
   "pygments_lexer": "ipython3",
   "version": "3.8.5"
  }
 },
 "nbformat": 4,
 "nbformat_minor": 5
}
