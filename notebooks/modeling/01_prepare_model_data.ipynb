{
 "cells": [
  {
   "cell_type": "code",
   "execution_count": 2,
   "id": "ebbb37fd",
   "metadata": {},
   "outputs": [],
   "source": [
    "import pandas as pd\n",
    "import sys\n",
    "from pathlib import Path"
   ]
  },
  {
   "cell_type": "code",
   "execution_count": 3,
   "id": "5fcfc57d",
   "metadata": {},
   "outputs": [],
   "source": [
    "project_root = Path.cwd().parent.parent\n",
    "sys.path.append(str(project_root))"
   ]
  },
  {
   "cell_type": "code",
   "execution_count": 4,
   "id": "3e73eb5c",
   "metadata": {},
   "outputs": [],
   "source": [
    "from src.enrichment.generate_negatives import generate_negative_cases\n",
    "from src.io import save_processed_data\n"
   ]
  },
  {
   "cell_type": "code",
   "execution_count": 6,
   "id": "83bf4587",
   "metadata": {},
   "outputs": [
    {
     "name": "stdout",
     "output_type": "stream",
     "text": [
      "Total samples: 4092\n",
      "Positive cases: 682\n",
      "Negative cases: 3410\n",
      "✅ Saved: data/processed/model_ready.parquet\n"
     ]
    }
   ],
   "source": [
    "df_pos = pd.read_parquet(\"../../data/processed/incidents_enriched.parquet\")\n",
    "df_pos[\"incident_occurred\"] = True\n",
    "\n",
    "df_neg = generate_negative_cases(df_pos, n_negatives=len(df_pos) * 5)\n",
    "\n",
    "df_all = pd.concat([df_pos, df_neg], ignore_index=True)\n",
    "print(\"Total samples:\", df_all.shape[0])\n",
    "print(\"Positive cases:\", df_all[\"incident_occurred\"].sum())\n",
    "print(\"Negative cases:\", (~df_all[\"incident_occurred\"]).sum())\n",
    "\n",
    "save_processed_data(df_all, \"../../data/processed/model_ready.parquet\")\n",
    "print(\"✅ Saved: data/processed/model_ready.parquet\")"
   ]
  },
  {
   "cell_type": "code",
   "execution_count": null,
   "id": "02fe9eda",
   "metadata": {},
   "outputs": [],
   "source": []
  }
 ],
 "metadata": {
  "kernelspec": {
   "display_name": "Python 3",
   "language": "python",
   "name": "python3"
  },
  "language_info": {
   "codemirror_mode": {
    "name": "ipython",
    "version": 3
   },
   "file_extension": ".py",
   "mimetype": "text/x-python",
   "name": "python",
   "nbconvert_exporter": "python",
   "pygments_lexer": "ipython3",
   "version": "3.8.5"
  }
 },
 "nbformat": 4,
 "nbformat_minor": 5
}
