{
 "cells": [
  {
   "cell_type": "code",
   "execution_count": 1,
   "id": "236ce520",
   "metadata": {},
   "outputs": [
    {
     "name": "stdout",
     "output_type": "stream",
     "text": [
      "Loaded: (4092, 30)\n",
      "Train size: (3273, 21)\n",
      "Test size: (819, 21)\n"
     ]
    }
   ],
   "source": [
    "import pandas as pd\n",
    "from sklearn.model_selection import train_test_split\n",
    "\n",
    "# 1. Load prepared dataset\n",
    "df = pd.read_parquet(\"../../data/processed/model_ready.parquet\")\n",
    "print(\"Loaded:\", df.shape)\n",
    "\n",
    "# 2. Define target and features\n",
    "target = \"incident_occurred\"\n",
    "\n",
    "features = [\n",
    "    # Ride features\n",
    "    \"ride_type_simplified\", \"ride_incident_count\", \"duration_min\",\n",
    "    # Visitor profile\n",
    "    \"age\", \"gender\", \"simulated_medical_condition\", \"first_time_visitor\",\n",
    "    # Temporal\n",
    "    \"season\", \"is_weekend\",\n",
    "    # Weather\n",
    "    \"temperature_max\", \"precipitation_sum\"\n",
    "]\n",
    "\n",
    "# 3. One-hot encode categorical features\n",
    "df_model = pd.get_dummies(df[features + [target]], drop_first=True)\n",
    "\n",
    "# 4. Split into train/test\n",
    "X = df_model.drop(columns=target)\n",
    "y = df_model[target]\n",
    "\n",
    "X_train, X_test, y_train, y_test = train_test_split(\n",
    "    X, y, test_size=0.2, random_state=42, stratify=y\n",
    ")\n",
    "\n",
    "print(\"Train size:\", X_train.shape)\n",
    "print(\"Test size:\", X_test.shape)\n"
   ]
  },
  {
   "cell_type": "code",
   "execution_count": null,
   "id": "f3636da0",
   "metadata": {},
   "outputs": [],
   "source": []
  }
 ],
 "metadata": {
  "kernelspec": {
   "display_name": "Python 3",
   "language": "python",
   "name": "python3"
  },
  "language_info": {
   "codemirror_mode": {
    "name": "ipython",
    "version": 3
   },
   "file_extension": ".py",
   "mimetype": "text/x-python",
   "name": "python",
   "nbconvert_exporter": "python",
   "pygments_lexer": "ipython3",
   "version": "3.8.5"
  }
 },
 "nbformat": 4,
 "nbformat_minor": 5
}
