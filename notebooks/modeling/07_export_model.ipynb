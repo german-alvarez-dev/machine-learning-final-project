{
 "cells": [
  {
   "cell_type": "code",
   "execution_count": 3,
   "id": "12f1aee4",
   "metadata": {},
   "outputs": [
    {
     "name": "stdout",
     "output_type": "stream",
     "text": [
      "✅ Model exported to outputs/models/final_logistic_model.joblib\n",
      "🔧 Optimal threshold: 0.415\n"
     ]
    }
   ],
   "source": [
    "# notebooks/modeling/07_export_model_for_app.ipynb\n",
    "\n",
    "import pandas as pd\n",
    "import numpy as np\n",
    "import joblib\n",
    "from sklearn.linear_model import LogisticRegression\n",
    "from sklearn.model_selection import train_test_split\n",
    "from sklearn.metrics import precision_recall_curve\n",
    "\n",
    "# 1. Load data and add age_group\n",
    "df = pd.read_parquet(\"../../data/processed/model_ready.parquet\")\n",
    "\n",
    "def age_group(age):\n",
    "    if age < 10: return \"<10\"\n",
    "    elif age < 20: return \"10–19\"\n",
    "    elif age < 30: return \"20–29\"\n",
    "    elif age < 40: return \"30–39\"\n",
    "    elif age < 50: return \"40–49\"\n",
    "    elif age < 60: return \"50–59\"\n",
    "    elif age < 70: return \"60–69\"\n",
    "    else: return \"70+\"\n",
    "\n",
    "df[\"age_group\"] = df[\"age\"].apply(age_group)\n",
    "\n",
    "features = [\n",
    "    \"ride_type_simplified\", \"ride_incident_count\", \"duration_min\",\n",
    "    \"age\", \"age_group\", \"gender\", \"simulated_medical_condition\", \"first_time_visitor\",\n",
    "    \"season\", \"is_weekend\", \"temperature_max\", \"precipitation_sum\"\n",
    "]\n",
    "target = \"incident_occurred\"\n",
    "\n",
    "df_model = pd.get_dummies(df[features + [target]], drop_first=True).dropna()\n",
    "\n",
    "# 2. Train final model\n",
    "X = df_model.drop(columns=target)\n",
    "y = df_model[target]\n",
    "model = LogisticRegression(max_iter=1000)\n",
    "model.fit(X, y)\n",
    "\n",
    "# 3. Determine optimal threshold\n",
    "y_probs = model.predict_proba(X)[:, 1]\n",
    "precisions, recalls, thresholds = precision_recall_curve(y, y_probs)\n",
    "f1s = 2 * (precisions * recalls) / (precisions + recalls + 1e-6)\n",
    "best_thresh = thresholds[np.argmax(f1s)]\n",
    "\n",
    "# 4. Save model and metadata\n",
    "joblib.dump({\n",
    "    \"model\": model,\n",
    "    \"threshold\": best_thresh,\n",
    "    \"features\": list(X.columns)\n",
    "}, \"../../outputs/models/final_logistic_model.joblib\")\n",
    "\n",
    "print(f\"✅ Model exported to outputs/models/final_logistic_model.joblib\")\n",
    "print(f\"🔧 Optimal threshold: {best_thresh:.3f}\")\n"
   ]
  },
  {
   "cell_type": "code",
   "execution_count": null,
   "id": "f9a9c377",
   "metadata": {},
   "outputs": [],
   "source": []
  }
 ],
 "metadata": {
  "kernelspec": {
   "display_name": "Python 3",
   "language": "python",
   "name": "python3"
  },
  "language_info": {
   "codemirror_mode": {
    "name": "ipython",
    "version": 3
   },
   "file_extension": ".py",
   "mimetype": "text/x-python",
   "name": "python",
   "nbconvert_exporter": "python",
   "pygments_lexer": "ipython3",
   "version": "3.8.5"
  }
 },
 "nbformat": 4,
 "nbformat_minor": 5
}
