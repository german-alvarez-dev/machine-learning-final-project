{
 "cells": [
  {
   "cell_type": "code",
   "execution_count": 12,
   "id": "f1ae250f",
   "metadata": {},
   "outputs": [
    {
     "name": "stdout",
     "output_type": "stream",
     "text": [
      "✅ Dataset balanced and saved with 1:50 ratio (without medical_condition)\n",
      "Positives: 682\n",
      "Negatives: 34100\n",
      "Total: 34782\n"
     ]
    }
   ],
   "source": [
    "import sys\n",
    "import pandas as pd\n",
    "\n",
    "import importlib\n",
    "import src.enrichment.generate_negatives\n",
    "importlib.reload(src.enrichment.generate_negatives)\n",
    "from src.enrichment.generate_negatives import generate_negative_cases\n",
    "\n",
    "\n",
    "\n",
    "from pathlib import Path\n",
    "project_root = Path().resolve().parent.parent\n",
    "sys.path.append(str(project_root))\n",
    "\n",
    "from src.io import save_processed_data\n",
    "\n",
    "# Load enriched incident data (positives)\n",
    "df_pos = pd.read_parquet(\"../../data/processed/incidents_enriched.parquet\")\n",
    "df_pos[\"incident_occurred\"] = True\n",
    "\n",
    "# Drop simulated feature with spurious correlation (if present)\n",
    "df_pos = df_pos.drop(columns=[col for col in df_pos.columns if col == \"simulated_medical_condition\"])\n",
    "\n",
    "# Remove 'simulated_medical_condition' from generate_negative_cases logic if needed\n",
    "# This call assumes the generate_negative_cases function does not require that column\n",
    "n_neg = len(df_pos) * 50\n",
    "df_neg = generate_negative_cases(df_pos, n_negatives=n_neg)\n",
    "\n",
    "# Also drop the column in negatives if it was injected\n",
    "if \"simulated_medical_condition\" in df_neg.columns:\n",
    "    df_neg = df_neg.drop(columns=[\"simulated_medical_condition\"])\n",
    "\n",
    "df_neg[\"incident_occurred\"] = False\n",
    "\n",
    "# Combine and save\n",
    "df_all = pd.concat([df_pos, df_neg], ignore_index=True)\n",
    "save_processed_data(df_all, \"../../data/processed/model_ready_balanced.parquet\")\n",
    "\n",
    "print(\"✅ Dataset balanced and saved with 1:50 ratio (without medical_condition)\")\n",
    "print(\"Positives:\", len(df_pos))\n",
    "print(\"Negatives:\", len(df_neg))\n",
    "print(\"Total:\", len(df_all))\n"
   ]
  }
 ],
 "metadata": {
  "kernelspec": {
   "display_name": "Python 3",
   "language": "python",
   "name": "python3"
  },
  "language_info": {
   "codemirror_mode": {
    "name": "ipython",
    "version": 3
   },
   "file_extension": ".py",
   "mimetype": "text/x-python",
   "name": "python",
   "nbconvert_exporter": "python",
   "pygments_lexer": "ipython3",
   "version": "3.8.5"
  }
 },
 "nbformat": 4,
 "nbformat_minor": 5
}
