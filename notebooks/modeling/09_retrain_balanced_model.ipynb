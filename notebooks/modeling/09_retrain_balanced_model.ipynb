{
 "cells": [
  {
   "cell_type": "code",
   "execution_count": 11,
   "id": "070af51c",
   "metadata": {},
   "outputs": [
    {
     "name": "stdout",
     "output_type": "stream",
     "text": [
      "\n",
      "🔧 Optimal threshold: 0.239\n",
      "\n",
      "📊 Classification report (optimized threshold):\n",
      "\n",
      "              precision    recall  f1-score   support\n",
      "\n",
      "       False       0.89      0.88      0.88       669\n",
      "        True       0.31      0.33      0.32       112\n",
      "\n",
      "    accuracy                           0.80       781\n",
      "   macro avg       0.60      0.60      0.60       781\n",
      "weighted avg       0.80      0.80      0.80       781\n",
      "\n",
      "AUC: 0.6467008327994875\n",
      "\n",
      "✅ Model retrained and saved: final_logistic_model_balanced.joblib\n"
     ]
    }
   ],
   "source": [
    "import pandas as pd\n",
    "import numpy as np\n",
    "from sklearn.model_selection import train_test_split\n",
    "from sklearn.linear_model import LogisticRegression\n",
    "from sklearn.metrics import classification_report, roc_auc_score, precision_recall_curve, f1_score\n",
    "import joblib\n",
    "\n",
    "# Load data\n",
    "df = pd.read_parquet(\"../../data/processed/model_ready_balanced.parquet\")\n",
    "\n",
    "# Define features and target\n",
    "features = [\n",
    "    \"ride_type_simplified\", \"duration_min\",\n",
    "    \"age\", \"age_group\", \"gender\", \"first_time_visitor\",\n",
    "    \"season\", \"is_weekend\", \"temperature_max\", \"precipitation_sum\"\n",
    "]\n",
    "target = \"incident_occurred\"\n",
    "\n",
    "# One-hot encoding\n",
    "df_model = pd.get_dummies(df[features + [target]], drop_first=True).dropna()\n",
    "X = df_model.drop(columns=target)\n",
    "y = df_model[target]\n",
    "\n",
    "# Train/test split\n",
    "X_train, X_test, y_train, y_test = train_test_split(X, y, stratify=y, random_state=42)\n",
    "\n",
    "# Train model\n",
    "model = LogisticRegression(max_iter=1000)\n",
    "model.fit(X_train, y_train)\n",
    "\n",
    "# Predict probabilities\n",
    "y_proba = model.predict_proba(X_test)[:, 1]\n",
    "\n",
    "# Find optimal threshold\n",
    "prec, rec, thresh = precision_recall_curve(y_test, y_proba)\n",
    "f1_scores = [f1_score(y_test, y_proba >= t) for t in thresh]\n",
    "optimal_threshold = thresh[np.argmax(f1_scores)]\n",
    "print(f\"\\n🔧 Optimal threshold: {optimal_threshold:.3f}\")\n",
    "\n",
    "# Evaluate at optimal threshold\n",
    "y_pred_opt = (y_proba >= optimal_threshold).astype(int)\n",
    "print(\"\\n📊 Classification report (optimized threshold):\\n\")\n",
    "print(classification_report(y_test, y_pred_opt))\n",
    "print(\"AUC:\", roc_auc_score(y_test, y_proba))\n",
    "\n",
    "# Save model\n",
    "joblib.dump((model, optimal_threshold, X.columns.tolist()), \"../../outputs/models/final_logistic_model_balanced.joblib\")\n",
    "print(\"\\n✅ Model retrained and saved: final_logistic_model_balanced.joblib\")"
   ]
  }
 ],
 "metadata": {
  "kernelspec": {
   "display_name": "Python 3",
   "language": "python",
   "name": "python3"
  },
  "language_info": {
   "codemirror_mode": {
    "name": "ipython",
    "version": 3
   },
   "file_extension": ".py",
   "mimetype": "text/x-python",
   "name": "python",
   "nbconvert_exporter": "python",
   "pygments_lexer": "ipython3",
   "version": "3.8.5"
  }
 },
 "nbformat": 4,
 "nbformat_minor": 5
}
