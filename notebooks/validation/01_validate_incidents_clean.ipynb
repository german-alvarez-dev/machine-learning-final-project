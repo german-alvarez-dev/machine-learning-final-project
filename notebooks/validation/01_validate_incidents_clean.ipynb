{
 "cells": [
  {
   "cell_type": "code",
   "execution_count": 2,
   "id": "5e52a2fe",
   "metadata": {},
   "outputs": [
    {
     "name": "stdout",
     "output_type": "stream",
     "text": [
      "age: 0 null values\n",
      "gender: 0 null values\n",
      "Age – basic stats:\n"
     ]
    },
    {
     "data": {
      "text/plain": [
       "count    682.000000\n",
       "mean      51.266862\n",
       "std       19.578804\n",
       "min        1.000000\n",
       "25%       40.000000\n",
       "50%       54.000000\n",
       "75%       67.000000\n",
       "max       89.000000\n",
       "Name: age, dtype: float64"
      ]
     },
     "metadata": {},
     "output_type": "display_data"
    },
    {
     "data": {
      "image/png": "[encoded data removed]",
      "text/plain": [
       "<Figure size 640x480 with 1 Axes>"
      ]
     },
     "metadata": {},
     "output_type": "display_data"
    },
    {
     "name": "stdout",
     "output_type": "stream",
     "text": [
      "Invalid ages (>110 or <0): 0\n",
      "Unique genders: {'M', 'F'}\n",
      "Validation completed successfully – age and gender columns are clean.\n"
     ]
    }
   ],
   "source": [
    "# 1 ▸ Imports\n",
    "import pandas as pd\n",
    "import matplotlib.pyplot as plt\n",
    "import seaborn as sns\n",
    "\n",
    "# 2 ▸ Load the cleaned dataset\n",
    "df = pd.read_parquet(\"../../data/processed/incidents_clean.parquet\")\n",
    "\n",
    "# 3 ▸ Basic sanity checks ----------------------------------------------------\n",
    "\n",
    "def check_nulls(col):\n",
    "    n_nulls = df[col].isna().sum()\n",
    "    print(f\"{col}: {n_nulls} null values\")\n",
    "    assert n_nulls == 0, f\"{col} still contains nulls\"\n",
    "\n",
    "check_nulls(\"age\")\n",
    "check_nulls(\"gender\")\n",
    "\n",
    "# 4 ▸ Age quality ------------------------------------------------------------\n",
    "\n",
    "print(\"Age – basic stats:\")\n",
    "display(df[\"age\"].describe())\n",
    "\n",
    "# Optional: plot distribution\n",
    "df[\"age\"].hist(bins=30)\n",
    "plt.xlabel(\"Age\")\n",
    "plt.ylabel(\"Count\")\n",
    "plt.title(\"Age Distribution\")\n",
    "plt.show()\n",
    "\n",
    "# Flag implausible ages (e.g. outside 0–110)\n",
    "invalid_age_mask = (df[\"age\"] < 0) | (df[\"age\"] > 110)\n",
    "n_invalid = invalid_age_mask.sum()\n",
    "print(f\"Invalid ages (>110 or <0): {n_invalid}\")\n",
    "assert n_invalid == 0, \"Found implausible ages\"\n",
    "\n",
    "# 5 ▸ Gender quality ---------------------------------------------------------\n",
    "\n",
    "valid_genders = {\"M\", \"F\"}\n",
    "unique_genders = set(df[\"gender\"].dropna().unique())\n",
    "print(f\"Unique genders: {unique_genders}\")\n",
    "extra_genders = unique_genders - valid_genders\n",
    "assert not extra_genders, f\"Unexpected gender values: {extra_genders}\"\n",
    "\n",
    "# 6 ▸ Summary ----------------------------------------------------------------\n",
    "print(\"Validation completed successfully – age and gender columns are clean.\")\n"
   ]
  },
  {
   "cell_type": "code",
   "execution_count": null,
   "id": "6f3947fa",
   "metadata": {},
   "outputs": [],
   "source": []
  }
 ],
 "metadata": {
  "kernelspec": {
   "display_name": "Python 3",
   "language": "python",
   "name": "python3"
  },
  "language_info": {
   "codemirror_mode": {
    "name": "ipython",
    "version": 3
   },
   "file_extension": ".py",
   "mimetype": "text/x-python",
   "name": "python",
   "nbconvert_exporter": "python",
   "pygments_lexer": "ipython3",
   "version": "3.8.5"
  }
 },
 "nbformat": 4,
 "nbformat_minor": 5
}
